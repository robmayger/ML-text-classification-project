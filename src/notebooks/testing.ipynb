{
 "cells": [
  {
   "cell_type": "code",
   "execution_count": 1,
   "id": "7f470bb2",
   "metadata": {},
   "outputs": [],
   "source": [
    "from sklearn.datasets import fetch_20newsgroups\n",
    "from src.cleaning.cleaners import BasicTextCleaner\n",
    "from src.tokenisation.tokenisers import BasicTokeniser\n",
    "from src.word_encoding.word_encoders import BasicEncoder\n",
    "\n",
    "from itertools import chain\n",
    "import numpy as np"
   ]
  },
  {
   "cell_type": "code",
   "execution_count": 2,
   "id": "589c5ebc",
   "metadata": {},
   "outputs": [],
   "source": [
    "data = fetch_20newsgroups(subset='train')\n",
    "\n",
    "X = data.data\n",
    "y = data.target"
   ]
  },
  {
   "cell_type": "code",
   "execution_count": 3,
   "id": "abdff95a",
   "metadata": {},
   "outputs": [],
   "source": [
    "# Optional: Get the category names\n",
    "label_names = data.target_names\n",
    "\n",
    "cleaner = BasicTextCleaner()\n",
    "X_clean = [cleaner.clean_text(text) for text in X]"
   ]
  },
  {
   "cell_type": "code",
   "execution_count": 11,
   "id": "1cee1484",
   "metadata": {},
   "outputs": [
    {
     "name": "stdout",
     "output_type": "stream",
     "text": [
      "[129, 136, 200, 123, 170, 200, 93, 200, 53, 200, 144, 200, 52, 200, 200, 180, 131, 200, 123, 200]\n"
     ]
    }
   ],
   "source": [
    "tokeniser = BasicTokeniser()\n",
    "X_tokens = [tokeniser.tokenise(text) for text in X_clean]\n",
    "print(list(map(lambda x: len(x), X_tokens))[:20])"
   ]
  },
  {
   "cell_type": "code",
   "execution_count": 5,
   "id": "1cbd483b",
   "metadata": {},
   "outputs": [
    {
     "name": "stdout",
     "output_type": "stream",
     "text": [
      "[ 2  3  4  5  6  7  8  9 10 11 12 13 14 15 16 17 18 19  4  5  6 20 21 22\n",
      " 23 24 25 26 27 28 29 30 31 32 33 34 35 36 37 15 13 27 38 39 40 41 42 28\n",
      " 43 44 45 13 46 47 48  2 39 49  8 50  8 42 28 51 43 52 39 53 54 55 56 57\n",
      " 58 39 59 60 28 61  2 39 62 22 39 63 15 14 64 27 65 30 31 66 67 43 68 69\n",
      " 70 71 72 22 73  7 15 13 14 74 75 76 77 78 79 80 37 15 81 82 13 83 84 85\n",
      " 86 87 88 47 79 89 90 91  3  0  0  0  0  0  0  0  0  0  0  0  0  0  0  0\n",
      "  0  0  0  0  0  0  0  0  0  0  0  0  0  0  0  0  0  0  0  0  0  0  0  0\n",
      "  0  0  0  0  0  0  0  0  0  0  0  0  0  0  0  0  0  0  0  0  0  0  0  0\n",
      "  0  0  0  0  0  0  0  0]\n"
     ]
    }
   ],
   "source": [
    "max_doc_len = max(map(lambda x: len(x), X_tokens))\n",
    "\n",
    "flat = list(chain.from_iterable(X_tokens))\n",
    "encoder = BasicEncoder(flat)\n",
    "\n",
    "X_encodings = np.array([encoder.encode(doc, max_len=max_doc_len) for doc in X_tokens])\n",
    "print(X_encodings[0])"
   ]
  },
  {
   "cell_type": "code",
   "execution_count": 6,
   "id": "1ab12eb7",
   "metadata": {},
   "outputs": [],
   "source": [
    "from sklearn.model_selection import train_test_split\n",
    "import torch\n",
    "\n",
    "X_train, X_val, y_train, y_val = train_test_split(X_encodings, y, test_size=0.2, random_state=42)\n",
    "\n",
    "# Convert to tensors\n",
    "X_train = torch.tensor(X_train, dtype=torch.long)\n",
    "X_val = torch.tensor(X_val, dtype=torch.long)\n",
    "y_train = torch.tensor(y_train, dtype=torch.long)\n",
    "y_val = torch.tensor(y_val, dtype=torch.long)"
   ]
  },
  {
   "cell_type": "code",
   "execution_count": 7,
   "id": "41b89618",
   "metadata": {},
   "outputs": [
    {
     "name": "stdout",
     "output_type": "stream",
     "text": [
      "torch.Size([9051, 200]) torch.Size([9051])\n",
      "torch.Size([2263, 200]) torch.Size([2263])\n"
     ]
    }
   ],
   "source": [
    "print(X_train.shape, y_train.shape)\n",
    "print(X_val.shape, y_val.shape)"
   ]
  },
  {
   "cell_type": "code",
   "execution_count": 8,
   "id": "44ddb744",
   "metadata": {},
   "outputs": [],
   "source": [
    "from torch.utils.data import TensorDataset, DataLoader\n",
    "\n",
    "BATCH_SIZE = 64\n",
    "\n",
    "train_data = TensorDataset(X_train, y_train)\n",
    "val_data = TensorDataset(X_val, y_val)\n",
    "\n",
    "train_loader = DataLoader(train_data, shuffle=True, batch_size=BATCH_SIZE)\n",
    "val_loader = DataLoader(val_data, batch_size=BATCH_SIZE)"
   ]
  },
  {
   "cell_type": "code",
   "execution_count": 9,
   "id": "853ace33",
   "metadata": {},
   "outputs": [],
   "source": [
    "from src.models.SimpleTextClassifier import SimpleTextClassifier\n",
    "\n",
    "vocab_size = encoder.get_vocab_size()\n",
    "\n",
    "model = SimpleTextClassifier(vocab_size, 100, 20)"
   ]
  },
  {
   "cell_type": "code",
   "execution_count": 10,
   "id": "b863c30c",
   "metadata": {},
   "outputs": [
    {
     "name": "stdout",
     "output_type": "stream",
     "text": [
      "Epoch 1: val_loss=2.9114, val_acc=0.2022\n",
      "Epoch 2: val_loss=2.7669, val_acc=0.3467\n",
      "Epoch 3: val_loss=2.5301, val_acc=0.4648\n",
      "Epoch 4: val_loss=2.2392, val_acc=0.5625\n",
      "Epoch 5: val_loss=1.9432, val_acc=0.6503\n",
      "Epoch 6: val_loss=1.6736, val_acc=0.7111\n",
      "Epoch 7: val_loss=1.4440, val_acc=0.7536\n",
      "Epoch 8: val_loss=1.2586, val_acc=0.7782\n",
      "Epoch 9: val_loss=1.1092, val_acc=0.7999\n",
      "Epoch 10: val_loss=0.9901, val_acc=0.8155\n",
      "Epoch 11: val_loss=0.8936, val_acc=0.8285\n",
      "Epoch 12: val_loss=0.8157, val_acc=0.8398\n",
      "Epoch 13: val_loss=0.7520, val_acc=0.8480\n",
      "Epoch 14: val_loss=0.6996, val_acc=0.8563\n",
      "Epoch 15: val_loss=0.6554, val_acc=0.8598\n",
      "Epoch 16: val_loss=0.6184, val_acc=0.8641\n",
      "Epoch 17: val_loss=0.5868, val_acc=0.8683\n",
      "Epoch 18: val_loss=0.5593, val_acc=0.8731\n",
      "Epoch 19: val_loss=0.5359, val_acc=0.8770\n",
      "Epoch 20: val_loss=0.5152, val_acc=0.8827\n",
      "Epoch 21: val_loss=0.4976, val_acc=0.8827\n",
      "Epoch 22: val_loss=0.4814, val_acc=0.8848\n",
      "Epoch 23: val_loss=0.4680, val_acc=0.8860\n",
      "Epoch 24: val_loss=0.4555, val_acc=0.8891\n",
      "Epoch 25: val_loss=0.4443, val_acc=0.8899\n",
      "Epoch 26: val_loss=0.4355, val_acc=0.8904\n",
      "Epoch 27: val_loss=0.4266, val_acc=0.8925\n",
      "Epoch 28: val_loss=0.4193, val_acc=0.8939\n",
      "Epoch 29: val_loss=0.4122, val_acc=0.8939\n",
      "Epoch 30: val_loss=0.4059, val_acc=0.8952\n",
      "Epoch 31: val_loss=0.4007, val_acc=0.8969\n",
      "Epoch 32: val_loss=0.3963, val_acc=0.8969\n",
      "Epoch 33: val_loss=0.3915, val_acc=0.8986\n",
      "Epoch 34: val_loss=0.3880, val_acc=0.9008\n",
      "Epoch 35: val_loss=0.3841, val_acc=0.9004\n",
      "Epoch 36: val_loss=0.3806, val_acc=0.9008\n",
      "Epoch 37: val_loss=0.3785, val_acc=0.9004\n",
      "Epoch 38: val_loss=0.3761, val_acc=0.9012\n",
      "Epoch 39: val_loss=0.3740, val_acc=0.9021\n",
      "Epoch 40: val_loss=0.3719, val_acc=0.9030\n",
      "Epoch 41: val_loss=0.3701, val_acc=0.9025\n",
      "Epoch 42: val_loss=0.3690, val_acc=0.9030\n",
      "Epoch 43: val_loss=0.3678, val_acc=0.9038\n",
      "Epoch 44: val_loss=0.3665, val_acc=0.9043\n",
      "Epoch 45: val_loss=0.3653, val_acc=0.9038\n",
      "Epoch 46: val_loss=0.3646, val_acc=0.9030\n",
      "Epoch 47: val_loss=0.3643, val_acc=0.9038\n",
      "Epoch 48: val_loss=0.3642, val_acc=0.9038\n",
      "Epoch 49: val_loss=0.3637, val_acc=0.9034\n",
      "Epoch 50: val_loss=0.3630, val_acc=0.9030\n",
      "Epoch 51: val_loss=0.3630, val_acc=0.9034\n",
      "Epoch 52: val_loss=0.3634, val_acc=0.9034\n",
      "Epoch 53: val_loss=0.3634, val_acc=0.9034\n",
      "Epoch 54: val_loss=0.3639, val_acc=0.9043\n",
      "Epoch 55: val_loss=0.3638, val_acc=0.9047\n",
      "Epoch 56: val_loss=0.3644, val_acc=0.9056\n",
      "Epoch 57: val_loss=0.3651, val_acc=0.9060\n",
      "Epoch 58: val_loss=0.3652, val_acc=0.9047\n",
      "Epoch 59: val_loss=0.3659, val_acc=0.9043\n",
      "Epoch 60: val_loss=0.3661, val_acc=0.9038\n",
      "Epoch 61: val_loss=0.3671, val_acc=0.9047\n",
      "Epoch 62: val_loss=0.3679, val_acc=0.9060\n",
      "Epoch 63: val_loss=0.3681, val_acc=0.9047\n",
      "Epoch 64: val_loss=0.3688, val_acc=0.9043\n",
      "Epoch 65: val_loss=0.3698, val_acc=0.9056\n",
      "Epoch 66: val_loss=0.3704, val_acc=0.9047\n",
      "Epoch 67: val_loss=0.3714, val_acc=0.9056\n",
      "Epoch 68: val_loss=0.3731, val_acc=0.9051\n",
      "Epoch 69: val_loss=0.3732, val_acc=0.9038\n",
      "Epoch 70: val_loss=0.3742, val_acc=0.9047\n",
      "Epoch 71: val_loss=0.3761, val_acc=0.9056\n",
      "Epoch 72: val_loss=0.3770, val_acc=0.9047\n",
      "Epoch 73: val_loss=0.3773, val_acc=0.9056\n",
      "Epoch 74: val_loss=0.3787, val_acc=0.9038\n",
      "Epoch 75: val_loss=0.3803, val_acc=0.9051\n",
      "Epoch 76: val_loss=0.3817, val_acc=0.9047\n",
      "Epoch 77: val_loss=0.3824, val_acc=0.9043\n",
      "Epoch 78: val_loss=0.3834, val_acc=0.9056\n",
      "Epoch 79: val_loss=0.3846, val_acc=0.9051\n",
      "Epoch 80: val_loss=0.3857, val_acc=0.9051\n",
      "Epoch 81: val_loss=0.3871, val_acc=0.9056\n",
      "Epoch 82: val_loss=0.3888, val_acc=0.9051\n",
      "Epoch 83: val_loss=0.3893, val_acc=0.9056\n",
      "Epoch 84: val_loss=0.3915, val_acc=0.9051\n",
      "Epoch 85: val_loss=0.3919, val_acc=0.9056\n",
      "Epoch 86: val_loss=0.3939, val_acc=0.9047\n",
      "Epoch 87: val_loss=0.3946, val_acc=0.9056\n",
      "Epoch 88: val_loss=0.3962, val_acc=0.9051\n",
      "Epoch 89: val_loss=0.3974, val_acc=0.9051\n",
      "Epoch 90: val_loss=0.3985, val_acc=0.9060\n",
      "Epoch 91: val_loss=0.4008, val_acc=0.9051\n",
      "Epoch 92: val_loss=0.4013, val_acc=0.9060\n",
      "Epoch 93: val_loss=0.4036, val_acc=0.9043\n",
      "Epoch 94: val_loss=0.4042, val_acc=0.9051\n",
      "Epoch 95: val_loss=0.4054, val_acc=0.9060\n",
      "Epoch 96: val_loss=0.4067, val_acc=0.9060\n",
      "Epoch 97: val_loss=0.4091, val_acc=0.9051\n",
      "Epoch 98: val_loss=0.4101, val_acc=0.9043\n",
      "Epoch 99: val_loss=0.4114, val_acc=0.9051\n",
      "Epoch 100: val_loss=0.4123, val_acc=0.9056\n"
     ]
    }
   ],
   "source": [
    "optimizer = model.configure_optimizers()\n",
    "\n",
    "for epoch in range(100):\n",
    "    model.train()\n",
    "    for batch in train_loader:\n",
    "        loss = model.training_step(batch)\n",
    "        optimizer.zero_grad()\n",
    "        loss.backward()\n",
    "        optimizer.step()\n",
    "\n",
    "    model.eval()\n",
    "    with torch.no_grad():\n",
    "        results = [model.validation_step(batch) for batch in val_loader]\n",
    "    val_loss = sum(r[\"val_loss\"] for r in results) / len(results)\n",
    "    val_acc = sum(r[\"val_acc\"] for r in results) / len(results)\n",
    "    print(f\"Epoch {epoch+1}: val_loss={val_loss:.4f}, val_acc={val_acc:.4f}\")"
   ]
  }
 ],
 "metadata": {
  "kernelspec": {
   "display_name": "Python 3",
   "language": "python",
   "name": "python3"
  },
  "language_info": {
   "codemirror_mode": {
    "name": "ipython",
    "version": 3
   },
   "file_extension": ".py",
   "mimetype": "text/x-python",
   "name": "python",
   "nbconvert_exporter": "python",
   "pygments_lexer": "ipython3",
   "version": "3.13.3"
  }
 },
 "nbformat": 4,
 "nbformat_minor": 5
}
