{
 "cells": [
  {
   "cell_type": "code",
   "execution_count": 1,
   "id": "7f470bb2",
   "metadata": {},
   "outputs": [],
   "source": [
    "from sklearn.datasets import fetch_20newsgroups\n",
    "from src.cleaning.cleaners import BasicTextCleaner\n",
    "from src.tokenisation.tokenisers import BasicTokeniser\n",
    "from src.word_encoding.word_encoders import BasicEncoder\n",
    "\n",
    "from itertools import chain\n",
    "import numpy as np"
   ]
  },
  {
   "cell_type": "code",
   "execution_count": 2,
   "id": "589c5ebc",
   "metadata": {},
   "outputs": [],
   "source": [
    "data = fetch_20newsgroups(subset='train')\n",
    "\n",
    "X = data.data\n",
    "y = data.target"
   ]
  },
  {
   "cell_type": "code",
   "execution_count": 3,
   "id": "abdff95a",
   "metadata": {},
   "outputs": [],
   "source": [
    "# Optional: Get the category names\n",
    "label_names = data.target_names\n",
    "\n",
    "cleaner = BasicTextCleaner()\n",
    "X_clean = [cleaner.clean_text(text) for text in X]"
   ]
  },
  {
   "cell_type": "code",
   "execution_count": 4,
   "id": "1cee1484",
   "metadata": {},
   "outputs": [
    {
     "name": "stdout",
     "output_type": "stream",
     "text": [
      "[129, 136, 200, 123, 170, 200, 93, 200, 53, 200, 144, 200, 52, 200, 200, 180, 131, 200, 123, 200]\n"
     ]
    }
   ],
   "source": [
    "tokeniser = BasicTokeniser()\n",
    "X_tokens = [tokeniser.tokenise(text) for text in X_clean]\n",
    "print(list(map(lambda x: len(x), X_tokens))[:20])"
   ]
  },
  {
   "cell_type": "code",
   "execution_count": 5,
   "id": "1cbd483b",
   "metadata": {},
   "outputs": [
    {
     "name": "stdout",
     "output_type": "stream",
     "text": [
      "[ 2  3  4  5  6  7  8  9 10 11 12 13 14 15 16 17 18 19  4  5  6 20 21 22\n",
      " 23 24 25 26 27 28 29 30 31 32 33 34 35 36 37 15 13 27 38 39 40 41 42 28\n",
      " 43 44 45 13 46 47 48  2 39 49  8 50  8 42 28 51 43 52 39 53 54 55 56 57\n",
      " 58 39 59 60 28 61  2 39 62 22 39 63 15 14 64 27 65 30 31 66 67 43 68 69\n",
      " 70 71 72 22 73  7 15 13 14 74 75 76 77 78 79 80 37 15 81 82 13 83 84 85\n",
      " 86 87 88 47 79 89 90 91  3  0  0  0  0  0  0  0  0  0  0  0  0  0  0  0\n",
      "  0  0  0  0  0  0  0  0  0  0  0  0  0  0  0  0  0  0  0  0  0  0  0  0\n",
      "  0  0  0  0  0  0  0  0  0  0  0  0  0  0  0  0  0  0  0  0  0  0  0  0\n",
      "  0  0  0  0  0  0  0  0]\n"
     ]
    }
   ],
   "source": [
    "max_doc_len = max(map(lambda x: len(x), X_tokens))\n",
    "\n",
    "flat = list(chain.from_iterable(X_tokens))\n",
    "encoder = BasicEncoder(flat)\n",
    "\n",
    "X_encodings = np.array([encoder.encode(doc, max_len=max_doc_len) for doc in X_tokens])\n",
    "print(X_encodings[0])"
   ]
  },
  {
   "cell_type": "code",
   "execution_count": 6,
   "id": "1ab12eb7",
   "metadata": {},
   "outputs": [],
   "source": [
    "from sklearn.model_selection import train_test_split\n",
    "import torch\n",
    "\n",
    "X_train, X_val, y_train, y_val = train_test_split(X_encodings, y, test_size=0.2, random_state=42)\n",
    "\n",
    "# Convert to tensors\n",
    "X_train = torch.tensor(X_train, dtype=torch.long)\n",
    "X_val = torch.tensor(X_val, dtype=torch.long)\n",
    "y_train = torch.tensor(y_train, dtype=torch.long)\n",
    "y_val = torch.tensor(y_val, dtype=torch.long)"
   ]
  },
  {
   "cell_type": "code",
   "execution_count": 7,
   "id": "41b89618",
   "metadata": {},
   "outputs": [
    {
     "name": "stdout",
     "output_type": "stream",
     "text": [
      "torch.Size([9051, 200]) torch.Size([9051])\n",
      "torch.Size([2263, 200]) torch.Size([2263])\n"
     ]
    }
   ],
   "source": [
    "print(X_train.shape, y_train.shape)\n",
    "print(X_val.shape, y_val.shape)"
   ]
  },
  {
   "cell_type": "code",
   "execution_count": 8,
   "id": "44ddb744",
   "metadata": {},
   "outputs": [],
   "source": [
    "from torch.utils.data import TensorDataset, DataLoader\n",
    "\n",
    "BATCH_SIZE = 16\n",
    "\n",
    "train_data = TensorDataset(X_train, y_train)\n",
    "val_data = TensorDataset(X_val, y_val)\n",
    "\n",
    "train_loader = DataLoader(train_data, shuffle=True, batch_size=BATCH_SIZE)\n",
    "val_loader = DataLoader(val_data, batch_size=BATCH_SIZE)"
   ]
  },
  {
   "cell_type": "code",
   "execution_count": null,
   "id": "853ace33",
   "metadata": {},
   "outputs": [
    {
     "name": "stdout",
     "output_type": "stream",
     "text": [
      "36407\n"
     ]
    }
   ],
   "source": [
    "from src.models import SimpleTextClassifier, BERTTextClassifier\n",
    "\n",
    "vocab_size = encoder.get_vocab_size()\n",
    "print(vocab_size)\n",
    "\n",
    "# model = SimpleTextClassifier(vocab_size, 100, 20)\n",
    "model = BERTTextClassifier(vocab_size)"
   ]
  },
  {
   "cell_type": "code",
   "execution_count": 10,
   "id": "b863c30c",
   "metadata": {},
   "outputs": [
    {
     "name": "stdout",
     "output_type": "stream",
     "text": [
      "Epoch 1: Val Loss = 2.7212, Val Acc = 0.3927\n",
      "Epoch 2: Val Loss = 2.1197, Val Acc = 0.6103\n",
      "Epoch 3: Val Loss = 1.5549, Val Acc = 0.7170\n",
      "Epoch 4: Val Loss = 1.1713, Val Acc = 0.7839\n",
      "Epoch 5: Val Loss = 0.9260, Val Acc = 0.8178\n",
      "Epoch 6: Val Loss = 0.7666, Val Acc = 0.8433\n",
      "Epoch 7: Val Loss = 0.6593, Val Acc = 0.8596\n",
      "Epoch 8: Val Loss = 0.5846, Val Acc = 0.8688\n",
      "Epoch 9: Val Loss = 0.5281, Val Acc = 0.8781\n",
      "Epoch 10: Val Loss = 0.4863, Val Acc = 0.8842\n"
     ]
    }
   ],
   "source": [
    "optimizer = model.configure_optimizers()\n",
    "\n",
    "# Training loop\n",
    "for epoch in range(10):\n",
    "    model.model.train()\n",
    "    for batch in train_loader:\n",
    "        loss = model.training_step(batch)\n",
    "        optimizer.zero_grad()\n",
    "        loss.backward()\n",
    "        optimizer.step()\n",
    "\n",
    "    # Validation\n",
    "    model.model.eval()\n",
    "    with torch.no_grad():\n",
    "        results = [model.validation_step(batch) for batch in val_loader]\n",
    "    avg_loss = sum(r['val_loss'] for r in results) / len(results)\n",
    "    avg_acc = sum(r['val_acc'] for r in results) / len(results)\n",
    "    print(f\"Epoch {epoch+1}: Val Loss = {avg_loss:.4f}, Val Acc = {avg_acc:.4f}\")"
   ]
  }
 ],
 "metadata": {
  "kernelspec": {
   "display_name": "Python 3",
   "language": "python",
   "name": "python3"
  },
  "language_info": {
   "codemirror_mode": {
    "name": "ipython",
    "version": 3
   },
   "file_extension": ".py",
   "mimetype": "text/x-python",
   "name": "python",
   "nbconvert_exporter": "python",
   "pygments_lexer": "ipython3",
   "version": "3.13.3"
  }
 },
 "nbformat": 4,
 "nbformat_minor": 5
}
